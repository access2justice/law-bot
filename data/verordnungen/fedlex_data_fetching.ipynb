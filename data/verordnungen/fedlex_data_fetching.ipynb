{
 "cells": [
  {
   "cell_type": "code",
   "execution_count": 104,
   "metadata": {},
   "outputs": [],
   "source": [
    "import pandas as pd\n",
    "# from sparql import query, display_result\n",
    "from SPARQLWrapper import SPARQLWrapper, CSV, JSON\n",
    "from io import BytesIO"
   ]
  },
  {
   "cell_type": "code",
   "execution_count": 105,
   "metadata": {},
   "outputs": [],
   "source": [
    "sparql = SPARQLWrapper(\n",
    "    \"https://fedlex.data.admin.ch/sparqlendpoint\"\n",
    ")\n",
    "sparql.setReturnFormat(CSV)\n",
    "\n",
    "# Get all currently applicable laws in DEU in XML-format\n",
    "sparql.setQuery(\"\"\"\n",
    "    PREFIX jolux: <http://data.legilux.public.lu/resource/ontology/jolux#>\n",
    "    PREFIX skos: <http://www.w3.org/2004/02/skos/core#>\n",
    "    PREFIX xsd: <http://www.w3.org/2001/XMLSchema#>\n",
    "    PREFIX lang: <http://publications.europa.eu/resource/authority/language/>\n",
    "\n",
    "    select distinct  (str(?srNotation) as ?rsNr) (str(?dateApplicability) as ?dateApplicability) ?title ?abrev ?consoExpr ?fileUrl {\n",
    "    filter(?language = lang:DEU)\n",
    "    #FRA = français, ITA = italiano, DEU = deutsch, ENG = english, ROH = rumantsch\n",
    "    ?consolidation a jolux:Consolidation .\n",
    "    ?consolidation jolux:dateApplicability ?dateApplicability .\n",
    "    optional { ?consolidation jolux:dateEndApplicability ?dateEndApplicability }\n",
    "    filter(xsd:date(?dateApplicability) <= xsd:date(now()) && (!bound(?dateEndApplicability) || xsd:date(?dateEndApplicability) >= xsd:date(now())))\n",
    "    ?consolidation jolux:isRealizedBy ?consoExpr .\n",
    "    ?consoExpr jolux:language ?language .\n",
    "    ?consoExpr jolux:isEmbodiedBy ?consoManif .\n",
    "    ?consoManif jolux:userFormat <https://fedlex.data.admin.ch/vocabulary/user-format/xml> .\n",
    "    #for pdf-files: replace doc with pdf-a\n",
    "    #for html-files: replace doc with html\n",
    "    #for xml-files: replace doc with xml\n",
    "    ?consoManif jolux:isExemplifiedBy ?fileUrl .\n",
    "    ?consolidation jolux:isMemberOf ?cc .\n",
    "    ?cc jolux:classifiedByTaxonomyEntry/skos:notation ?srNotation .\n",
    "    optional { ?cc jolux:dateNoLongerInForce ?ccNoLonger }\n",
    "    optional { ?cc jolux:dateEndApplicability ?ccEnd }\n",
    "    filter(!bound(?ccNoLonger) || xsd:date(?ccNoLonger) > xsd:date(now()))\n",
    "    filter(!bound(?ccEnd) || xsd:date(?ccEnd) >= xsd:date(now()))\n",
    "    filter(datatype(?srNotation) = <https://fedlex.data.admin.ch/vocabulary/notation-type/id-systematique>)\n",
    "    optional {\n",
    "        ?cc jolux:isRealizedBy ?ccExpr .\n",
    "        ?ccExpr jolux:language ?language .\n",
    "        ?ccExpr jolux:title ?title .\n",
    "        optional {?ccExpr jolux:titleShort ?abrev }\n",
    "    }\n",
    "    }\n",
    "    order by ?srNotation\n",
    "    \"\"\"\n",
    ")\n",
    "\n",
    "try:\n",
    "    ret = sparql.queryAndConvert()\n",
    "    # df = pd.read_csv(ret.decode(\"utf-8\"))\n",
    "    df = pd.read_csv(BytesIO(ret))\n",
    "    # for r in ret[\"results\"][\"bindings\"]:\n",
    "    #     print(r)\n",
    "except Exception as e:\n",
    "    print(e)"
   ]
  },
  {
   "cell_type": "code",
   "execution_count": 106,
   "metadata": {},
   "outputs": [],
   "source": [
    "import os\n",
    "import requests"
   ]
  },
  {
   "cell_type": "code",
   "execution_count": 107,
   "metadata": {},
   "outputs": [],
   "source": [
    "def download_file(url, file_path):\n",
    "    # Senden einer GET-Anfrage an die Website\n",
    "    response = requests.get(url)\n",
    "\n",
    "    # Überprüfen des Statuscodes\n",
    "    if response.status_code == 200:\n",
    "        # Die Website antwortete erfolgreich\n",
    "        # Das XML-Dokument in einer Datei speichern\n",
    "        with open(file_path, \"wb\") as file:\n",
    "            file.write((response.content))\n",
    "\n",
    "        print(\"Das Dokument wurde erfolgreich heruntergeladen.\")\n",
    "    else:\n",
    "        # Die Website antwortete mit einem Fehler\n",
    "        print(f\"Fehler beim Herunterladen des Dokuments: {response.status_code}\")"
   ]
  },
  {
   "cell_type": "code",
   "execution_count": 109,
   "metadata": {},
   "outputs": [
    {
     "name": "stdout",
     "output_type": "stream",
     "text": [
      "d https://fedlex.data.admin.ch/filestore/fedlex.data.admin.ch/eli/cc/2000/243/20230901/de/xml/fedlex-data-admin-ch-eli-cc-2000-243-20230901-de-xml.xml\n",
      "Das Dokument wurde erfolgreich heruntergeladen.\n",
      "d https://fedlex.data.admin.ch/filestore/fedlex.data.admin.ch/eli/cc/2000/244/20231015/de/xml/fedlex-data-admin-ch-eli-cc-2000-244-20231015-de-xml-1.xml\n",
      "Das Dokument wurde erfolgreich heruntergeladen.\n",
      "d https://fedlex.data.admin.ch/filestore/fedlex.data.admin.ch/eli/cc/1993/2553_2553_2553/20151001/de/xml/fedlex-data-admin-ch-eli-cc-1993-2553_2553_2553-20151001-de-xml-3.xml\n",
      "Das Dokument wurde erfolgreich heruntergeladen.\n",
      "d https://fedlex.data.admin.ch/filestore/fedlex.data.admin.ch/eli/cc/1993/2564_2564_2564/20150501/de/xml/fedlex-data-admin-ch-eli-cc-1993-2564_2564_2564-20150501-de-xml-3.xml\n",
      "Das Dokument wurde erfolgreich heruntergeladen.\n",
      "d https://fedlex.data.admin.ch/filestore/fedlex.data.admin.ch/eli/cc/2007/692/20180701/de/xml/fedlex-data-admin-ch-eli-cc-2007-692-20180701-de-xml-4.xml\n",
      "Das Dokument wurde erfolgreich heruntergeladen.\n"
     ]
    }
   ],
   "source": [
    "file_folder = \"files_xml\"\n",
    "\n",
    "if not os.path.exists(file_folder):\n",
    "    os.makedirs(file_folder)\n",
    "\n",
    "\n",
    "download_rsNr = ['822.111', '822.112', '822.113', '822.114', '822.115']\n",
    "\n",
    "# Download all respective files\n",
    "for rsNr in download_rsNr:\n",
    "    fileUrl = df['fileUrl'][df['rsNr'] == rsNr].item()\n",
    "    print('d', fileUrl)\n",
    "    file_path = os.path.join(file_folder, rsNr + '.xml')\n",
    "    download_file(fileUrl, file_path)\n"
   ]
  },
  {
   "cell_type": "code",
   "execution_count": null,
   "metadata": {},
   "outputs": [],
   "source": []
  }
 ],
 "metadata": {
  "kernelspec": {
   "display_name": "fedlex",
   "language": "python",
   "name": "python3"
  },
  "language_info": {
   "codemirror_mode": {
    "name": "ipython",
    "version": 3
   },
   "file_extension": ".py",
   "mimetype": "text/x-python",
   "name": "python",
   "nbconvert_exporter": "python",
   "pygments_lexer": "ipython3",
   "version": "3.12.1"
  }
 },
 "nbformat": 4,
 "nbformat_minor": 2
}
